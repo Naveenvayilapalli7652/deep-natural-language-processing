{
  "nbformat": 4,
  "nbformat_minor": 0,
  "metadata": {
    "colab": {
      "name": "Stacked Long Short Term Memory Networks.ipynb",
      "provenance": [],
      "authorship_tag": "ABX9TyMkqji1TdYDEHZZZ/Y6TRJD",
      "include_colab_link": true
    },
    "kernelspec": {
      "name": "python3",
      "display_name": "Python 3"
    },
    "accelerator": "GPU"
  },
  "cells": [
    {
      "cell_type": "markdown",
      "metadata": {
        "id": "view-in-github",
        "colab_type": "text"
      },
      "source": [
        "<a href=\"https://colab.research.google.com/github/sourcecode369/deep-nlp/blob/master/recurrent%20neural%20networks/Stacked_Long_Short_Term_Memory_Networks.ipynb\" target=\"_parent\"><img src=\"https://colab.research.google.com/assets/colab-badge.svg\" alt=\"Open In Colab\"/></a>"
      ]
    },
    {
      "cell_type": "code",
      "metadata": {
        "id": "1XJLbqTYqsx6",
        "colab_type": "code",
        "colab": {
          "base_uri": "https://localhost:8080/",
          "height": 34
        },
        "outputId": "c267d959-4e40-4521-990f-d533fdffa198"
      },
      "source": [
        "%tensorflow_version 2.x\n",
        "from tensorflow.keras.models import Sequential\n",
        "from tensorflow.keras.layers import LSTM, Dense, Activation\n",
        "from numpy import array \n",
        "\n",
        "import numpy as np\n",
        "import pandas as pd \n",
        "import matplotlib.pyplot as plt\n",
        "%matplotlib inline"
      ],
      "execution_count": 2,
      "outputs": [
        {
          "output_type": "stream",
          "text": [
            "TensorFlow 2.x selected.\n"
          ],
          "name": "stdout"
        }
      ]
    },
    {
      "cell_type": "code",
      "metadata": {
        "id": "h5wrIwiDrV6L",
        "colab_type": "code",
        "colab": {
          "base_uri": "https://localhost:8080/",
          "height": 52
        },
        "outputId": "e9e44447-ff0e-48b5-9c65-0a24816b144a"
      },
      "source": [
        "# Each LSTMs memory cell requires a 3D input. When an LSTM processes one input sequence of time \n",
        "# steps, each memory cell will output a single value for the whole sequence as a 2D array.\n",
        "\n",
        "model = Sequential()\n",
        "model.add(LSTM(10, input_shape=(3,1)))\n",
        "model.compile(optimizer='adam', loss='mse')\n",
        "data = np.random.randn(1,3,1)\n",
        "print(model.predict(data))"
      ],
      "execution_count": 3,
      "outputs": [
        {
          "output_type": "stream",
          "text": [
            "[[ 0.05921615 -0.03010203 -0.00745623 -0.10550459 -0.08348058 -0.13135718\n",
            "   0.05771159  0.00856336 -0.02335096  0.01949931]]\n"
          ],
          "name": "stdout"
        }
      ]
    },
    {
      "cell_type": "code",
      "metadata": {
        "id": "H62shZmNrqrz",
        "colab_type": "code",
        "colab": {
          "base_uri": "https://localhost:8080/",
          "height": 70
        },
        "outputId": "729bea9c-88cb-4ada-c2a4-a73babbaf0ef"
      },
      "source": [
        "# To stack LSTM layers, we need to change the configuration of the prior LSTM layer to output a 3D array as input for the subsequent layer.\n",
        "# We can do this by setting the return_sequences argument on the layer to True (defaults to False). \n",
        "# This will return one output for each input time step and provide a 3D array.\n",
        "# Below is the same example as above with return_sequences=True.\n",
        "model = Sequential()\n",
        "model.add(LSTM(1, return_sequences=True, input_shape=(3,1)))\n",
        "model.compile(optimizer='adam',loss='mse')\n",
        "data = np.random.randn(1,3,1)\n",
        "print(model.predict(data))"
      ],
      "execution_count": 4,
      "outputs": [
        {
          "output_type": "stream",
          "text": [
            "[[[-0.0309435 ]\n",
            "  [ 0.07525866]\n",
            "  [-0.10665452]]]\n"
          ],
          "name": "stdout"
        }
      ]
    },
    {
      "cell_type": "code",
      "metadata": {
        "id": "DZZT2oKbsx4_",
        "colab_type": "code",
        "colab": {}
      },
      "source": [
        "model = Sequential()\n",
        "model.add(LSTM(32, return_sequences=True, input_shape=(1,1)))\n",
        "model.add(LSTM(16,return_sequences=True))\n",
        "model.add(LSTM(8))\n",
        "model.add(Dense(1, activation='sigmoid'))\n",
        "model.compile(optimizer=\"adam\", loss='binary_crossentropy',metrics=['accuracy'])"
      ],
      "execution_count": 0,
      "outputs": []
    },
    {
      "cell_type": "code",
      "metadata": {
        "id": "chtUZfyouI1-",
        "colab_type": "code",
        "colab": {}
      },
      "source": [
        "data = np.expand_dims(np.expand_dims(np.array([np.random.randint(0,10000)*0.001*np.random.choice([-1,1]) for i in range(10000)]),axis=1),axis=2)\n",
        "y = np.array(data > 0).astype(np.int).ravel()"
      ],
      "execution_count": 0,
      "outputs": []
    },
    {
      "cell_type": "code",
      "metadata": {
        "id": "y1BNbh6ICGYN",
        "colab_type": "code",
        "colab": {
          "base_uri": "https://localhost:8080/",
          "height": 407
        },
        "outputId": "21597657-5d5c-4142-90b2-4c01afbbc8e3"
      },
      "source": [
        "model.fit(data, y, epochs=10, validation_split=0.2, verbose=1)"
      ],
      "execution_count": 40,
      "outputs": [
        {
          "output_type": "stream",
          "text": [
            "Train on 8000 samples, validate on 2000 samples\n",
            "Epoch 1/10\n",
            "8000/8000 [==============================] - 4s 550us/sample - loss: 0.3755 - accuracy: 0.9719 - val_loss: 0.0830 - val_accuracy: 0.9980\n",
            "Epoch 2/10\n",
            "8000/8000 [==============================] - 2s 198us/sample - loss: 0.0433 - accuracy: 0.9984 - val_loss: 0.0221 - val_accuracy: 1.0000\n",
            "Epoch 3/10\n",
            "8000/8000 [==============================] - 1s 183us/sample - loss: 0.0176 - accuracy: 0.9989 - val_loss: 0.0116 - val_accuracy: 1.0000\n",
            "Epoch 4/10\n",
            "8000/8000 [==============================] - 1s 180us/sample - loss: 0.0109 - accuracy: 0.9987 - val_loss: 0.0074 - val_accuracy: 1.0000\n",
            "Epoch 5/10\n",
            "8000/8000 [==============================] - 1s 181us/sample - loss: 0.0075 - accuracy: 0.9995 - val_loss: 0.0058 - val_accuracy: 0.9990\n",
            "Epoch 6/10\n",
            "8000/8000 [==============================] - 1s 176us/sample - loss: 0.0058 - accuracy: 0.9994 - val_loss: 0.0039 - val_accuracy: 1.0000\n",
            "Epoch 7/10\n",
            "8000/8000 [==============================] - 1s 182us/sample - loss: 0.0047 - accuracy: 0.9995 - val_loss: 0.0029 - val_accuracy: 1.0000\n",
            "Epoch 8/10\n",
            "8000/8000 [==============================] - 2s 192us/sample - loss: 0.0037 - accuracy: 0.9995 - val_loss: 0.0023 - val_accuracy: 1.0000\n",
            "Epoch 9/10\n",
            "8000/8000 [==============================] - 1s 182us/sample - loss: 0.0035 - accuracy: 0.9991 - val_loss: 0.0019 - val_accuracy: 1.0000\n",
            "Epoch 10/10\n",
            "8000/8000 [==============================] - 1s 182us/sample - loss: 0.0033 - accuracy: 0.9991 - val_loss: 0.0015 - val_accuracy: 1.0000\n"
          ],
          "name": "stdout"
        },
        {
          "output_type": "execute_result",
          "data": {
            "text/plain": [
              "<tensorflow.python.keras.callbacks.History at 0x7f0774a32fd0>"
            ]
          },
          "metadata": {
            "tags": []
          },
          "execution_count": 40
        }
      ]
    },
    {
      "cell_type": "code",
      "metadata": {
        "id": "nBEjxoybCQrT",
        "colab_type": "code",
        "colab": {
          "base_uri": "https://localhost:8080/",
          "height": 194
        },
        "outputId": "6c914ff2-20cb-49f0-f5ae-962eff642476"
      },
      "source": [
        "model.predict_classes(np.random.randn(10,1,1))"
      ],
      "execution_count": 44,
      "outputs": [
        {
          "output_type": "execute_result",
          "data": {
            "text/plain": [
              "array([[0],\n",
              "       [0],\n",
              "       [1],\n",
              "       [0],\n",
              "       [0],\n",
              "       [1],\n",
              "       [0],\n",
              "       [0],\n",
              "       [0],\n",
              "       [1]], dtype=int32)"
            ]
          },
          "metadata": {
            "tags": []
          },
          "execution_count": 44
        }
      ]
    }
  ]
}