{
  "nbformat": 4,
  "nbformat_minor": 0,
  "metadata": {
    "colab": {
      "name": "Bidirectional LSTM Test.ipynb",
      "provenance": [],
      "authorship_tag": "ABX9TyPCTxeN2/bd2zBIr3yuXUzK",
      "include_colab_link": true
    },
    "kernelspec": {
      "name": "python3",
      "display_name": "Python 3"
    },
    "accelerator": "GPU"
  },
  "cells": [
    {
      "cell_type": "markdown",
      "metadata": {
        "id": "view-in-github",
        "colab_type": "text"
      },
      "source": [
        "<a href=\"https://colab.research.google.com/github/sourcecode369/deep-nlp/blob/master/recurrent%20neural%20networks/Bidirectional_LSTM_Test.ipynb\" target=\"_parent\"><img src=\"https://colab.research.google.com/assets/colab-badge.svg\" alt=\"Open In Colab\"/></a>"
      ]
    },
    {
      "cell_type": "code",
      "metadata": {
        "id": "iqr4gSb_riUO",
        "colab_type": "code",
        "colab": {}
      },
      "source": [
        "from __future__ import print_function, division\n",
        "from builtins import range, input"
      ],
      "execution_count": 0,
      "outputs": []
    },
    {
      "cell_type": "code",
      "metadata": {
        "id": "XfbcaXd5rtRp",
        "colab_type": "code",
        "colab": {
          "base_uri": "https://localhost:8080/",
          "height": 34
        },
        "outputId": "8e17b677-8815-4c32-e8e4-95bae761149e"
      },
      "source": [
        "%tensorflow_version 2.x\n",
        "import tensorflow as tf\n",
        "from tensorflow.keras.models import Model \n",
        "from tensorflow.keras.layers import Input, LSTM, GRU, Bidirectional\n",
        "import numpy as np \n",
        "import matplotlib.pyplot as plt \n",
        "%matplotlib inline "
      ],
      "execution_count": 2,
      "outputs": [
        {
          "output_type": "stream",
          "text": [
            "TensorFlow is already loaded. Please restart the runtime to change versions.\n"
          ],
          "name": "stdout"
        }
      ]
    },
    {
      "cell_type": "code",
      "metadata": {
        "id": "LD1TMgXAsGXP",
        "colab_type": "code",
        "colab": {}
      },
      "source": [
        "T = 8\n",
        "D = 2\n",
        "M = 3"
      ],
      "execution_count": 0,
      "outputs": []
    },
    {
      "cell_type": "code",
      "metadata": {
        "id": "aEwTA3oJsJoj",
        "colab_type": "code",
        "colab": {}
      },
      "source": [
        "X = np.random.randn(1,T,D)"
      ],
      "execution_count": 0,
      "outputs": []
    },
    {
      "cell_type": "code",
      "metadata": {
        "id": "S7gaNF2rsMgC",
        "colab_type": "code",
        "colab": {
          "base_uri": "https://localhost:8080/",
          "height": 250
        },
        "outputId": "0b0fed52-9af2-4ba0-c1cf-f7715732d4a4"
      },
      "source": [
        "input_ = Input(shape=(T,D))\n",
        "rnn = Bidirectional(LSTM(M, return_state=True, return_sequences=True))\n",
        "x = rnn(input_)"
      ],
      "execution_count": 5,
      "outputs": [
        {
          "output_type": "stream",
          "text": [
            "WARNING:tensorflow:From /usr/local/lib/python3.6/dist-packages/tensorflow_core/python/ops/init_ops.py:97: calling GlorotUniform.__init__ (from tensorflow.python.ops.init_ops) with dtype is deprecated and will be removed in a future version.\n",
            "Instructions for updating:\n",
            "Call initializer instance with the dtype argument instead of passing it to the constructor\n",
            "WARNING:tensorflow:From /usr/local/lib/python3.6/dist-packages/tensorflow_core/python/ops/init_ops.py:97: calling Orthogonal.__init__ (from tensorflow.python.ops.init_ops) with dtype is deprecated and will be removed in a future version.\n",
            "Instructions for updating:\n",
            "Call initializer instance with the dtype argument instead of passing it to the constructor\n",
            "WARNING:tensorflow:From /usr/local/lib/python3.6/dist-packages/tensorflow_core/python/ops/init_ops.py:97: calling Zeros.__init__ (from tensorflow.python.ops.init_ops) with dtype is deprecated and will be removed in a future version.\n",
            "Instructions for updating:\n",
            "Call initializer instance with the dtype argument instead of passing it to the constructor\n",
            "WARNING:tensorflow:From /usr/local/lib/python3.6/dist-packages/tensorflow_core/python/ops/resource_variable_ops.py:1630: calling BaseResourceVariable.__init__ (from tensorflow.python.ops.resource_variable_ops) with constraint is deprecated and will be removed in a future version.\n",
            "Instructions for updating:\n",
            "If using Keras pass *_constraint arguments to layers.\n"
          ],
          "name": "stdout"
        }
      ]
    },
    {
      "cell_type": "code",
      "metadata": {
        "id": "EWOy4pNssZoU",
        "colab_type": "code",
        "colab": {}
      },
      "source": [
        "model = Model(input_, x)\n",
        "o, h1, c1, h2, c2 = model.predict(X)"
      ],
      "execution_count": 0,
      "outputs": []
    },
    {
      "cell_type": "code",
      "metadata": {
        "id": "RJ3RYIsIslKp",
        "colab_type": "code",
        "colab": {
          "base_uri": "https://localhost:8080/",
          "height": 390
        },
        "outputId": "01ce4f4c-054a-41be-dbc1-d56ab9aea9f8"
      },
      "source": [
        "print(\"o:\",o)\n",
        "print(\"o.shape:\",o.shape)\n",
        "print(\"h1:\",h1)\n",
        "print(\"c1:\",c1)\n",
        "print(\"h2:\",h2)\n",
        "print(\"c2:\",c2)"
      ],
      "execution_count": 11,
      "outputs": [
        {
          "output_type": "stream",
          "text": [
            "o: [[[ 0.11253004 -0.03092608 -0.06630566 -0.39619136  0.24818416\n",
            "   -0.08490453]\n",
            "  [-0.07517125  0.01502566  0.01917559 -0.22268571  0.14949295\n",
            "   -0.03665679]\n",
            "  [ 0.01815493  0.01556195 -0.15813972 -0.43729374  0.29446658\n",
            "   -0.13612342]\n",
            "  [ 0.23609129 -0.0448236   0.01032039 -0.39598283  0.2849627\n",
            "   -0.285201  ]\n",
            "  [ 0.27708757 -0.07811401 -0.00345694 -0.17063354  0.20096005\n",
            "   -0.18531086]\n",
            "  [ 0.2189869  -0.13215548  0.07653959  0.08197068  0.0867257\n",
            "   -0.11753946]\n",
            "  [ 0.08296373 -0.03460078 -0.06036649  0.07887851  0.05881318\n",
            "   -0.06289996]\n",
            "  [ 0.1126808  -0.21593112  0.11169305  0.15077989  0.0751698\n",
            "   -0.24802327]]]\n",
            "o.shape: (1, 8, 6)\n",
            "h1: [[ 0.1126808  -0.21593112  0.11169305]]\n",
            "c1: [[ 0.15140209 -0.45981696  0.49486363]]\n",
            "h2: [[-0.39619136  0.24818416 -0.08490453]]\n",
            "c2: [[-0.87975156  0.48920622 -0.16847518]]\n"
          ],
          "name": "stdout"
        }
      ]
    },
    {
      "cell_type": "code",
      "metadata": {
        "id": "PoBnQMJXtA3Q",
        "colab_type": "code",
        "colab": {
          "base_uri": "https://localhost:8080/",
          "height": 123
        },
        "outputId": "70e9c389-d6b7-49b1-a1fc-0236e925d8c2"
      },
      "source": [
        "input_ = Input(shape=(T,D))\n",
        "rnn = Bidirectional(LSTM(M, return_state=True, return_sequences=False))\n",
        "x = rnn(input_)\n",
        "model = Model(input_, x)\n",
        "o, h1, c1, h2, c2 = model.predict(X)\n",
        "print(\"o:\",o)\n",
        "print(\"o.shape:\",o.shape)\n",
        "print(\"h1:\",h1)\n",
        "print(\"c1:\",c1)\n",
        "print(\"h2:\",h2)\n",
        "print(\"c2:\",c2)"
      ],
      "execution_count": 12,
      "outputs": [
        {
          "output_type": "stream",
          "text": [
            "o: [[ 0.14969218 -0.19363384  0.01567384  0.0152386   0.15255322 -0.04848756]]\n",
            "o.shape: (1, 6)\n",
            "h1: [[ 0.14969218 -0.19363384  0.01567384]]\n",
            "c1: [[ 0.7560293  -0.4260858   0.02213971]]\n",
            "h2: [[ 0.0152386   0.15255322 -0.04848756]]\n",
            "c2: [[ 0.02924997  0.32409564 -0.10173343]]\n"
          ],
          "name": "stdout"
        }
      ]
    },
    {
      "cell_type": "code",
      "metadata": {
        "id": "jpjfkE1vt25w",
        "colab_type": "code",
        "colab": {}
      },
      "source": [
        ""
      ],
      "execution_count": 0,
      "outputs": []
    }
  ]
}