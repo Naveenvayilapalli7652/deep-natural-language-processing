{
  "nbformat": 4,
  "nbformat_minor": 0,
  "metadata": {
    "colab": {
      "name": "Named Entitiy Recognition - spacy simple.ipynb",
      "provenance": [],
      "authorship_tag": "ABX9TyMqfurMsLcxU8ktEAjINPwV",
      "include_colab_link": true
    },
    "kernelspec": {
      "name": "python3",
      "display_name": "Python 3"
    }
  },
  "cells": [
    {
      "cell_type": "markdown",
      "metadata": {
        "id": "view-in-github",
        "colab_type": "text"
      },
      "source": [
        "<a href=\"https://colab.research.google.com/github/sourcecode369/deep-natural-language-processing/blob/master/named-entity-recognition/Named_Entitiy_Recognition_spacy_simple.ipynb\" target=\"_parent\"><img src=\"https://colab.research.google.com/assets/colab-badge.svg\" alt=\"Open In Colab\"/></a>"
      ]
    },
    {
      "cell_type": "code",
      "metadata": {
        "id": "GI2cRsuAM9DV",
        "colab_type": "code",
        "colab": {}
      },
      "source": [
        "import spacy"
      ],
      "execution_count": 0,
      "outputs": []
    },
    {
      "cell_type": "code",
      "metadata": {
        "id": "ogXVeetfNAeN",
        "colab_type": "code",
        "colab": {}
      },
      "source": [
        "nlp = spacy.load(\"en\", tagger=False, parser=False, matcher=False)"
      ],
      "execution_count": 0,
      "outputs": []
    },
    {
      "cell_type": "code",
      "metadata": {
        "id": "WyrdAJYkNHsl",
        "colab_type": "code",
        "colab": {}
      },
      "source": [
        "doc = nlp(\"Hello my name is rohit singh and i live in India.\")"
      ],
      "execution_count": 0,
      "outputs": []
    },
    {
      "cell_type": "code",
      "metadata": {
        "id": "yz310JCXNMQ0",
        "colab_type": "code",
        "colab": {
          "base_uri": "https://localhost:8080/",
          "height": 33
        },
        "outputId": "5a06a578-43c6-47f2-a698-cc91a8389c57"
      },
      "source": [
        "for ent in doc.ents:\n",
        "  print(ent.label_, ent.text)"
      ],
      "execution_count": 6,
      "outputs": [
        {
          "output_type": "stream",
          "text": [
            "GPE India\n"
          ],
          "name": "stdout"
        }
      ]
    },
    {
      "cell_type": "code",
      "metadata": {
        "id": "7gaxDfFVNmK-",
        "colab_type": "code",
        "colab": {}
      },
      "source": [
        "# other libraries\n",
        "###\n",
        "# polyglot\n",
        "# gensim\n",
        "# nltk"
      ],
      "execution_count": 0,
      "outputs": []
    }
  ]
}