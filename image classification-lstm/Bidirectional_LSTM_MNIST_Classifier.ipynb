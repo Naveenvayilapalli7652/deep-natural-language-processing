{
  "nbformat": 4,
  "nbformat_minor": 0,
  "metadata": {
    "colab": {
      "name": "Bidirectional LSTM MNIST Classifier.ipynb",
      "provenance": [],
      "authorship_tag": "ABX9TyNceWTeTnWZUh29R/F4C+Tn",
      "include_colab_link": true
    },
    "kernelspec": {
      "name": "python3",
      "display_name": "Python 3"
    },
    "accelerator": "GPU"
  },
  "cells": [
    {
      "cell_type": "markdown",
      "metadata": {
        "id": "view-in-github",
        "colab_type": "text"
      },
      "source": [
        "<a href=\"https://colab.research.google.com/github/sourcecode369/deep-nlp/blob/master/image%20classification-lstm/Bidirectional_LSTM_MNIST_Classifier.ipynb\" target=\"_parent\"><img src=\"https://colab.research.google.com/assets/colab-badge.svg\" alt=\"Open In Colab\"/></a>"
      ]
    },
    {
      "cell_type": "code",
      "metadata": {
        "id": "fN2rWQkWwj6N",
        "colab_type": "code",
        "colab": {}
      },
      "source": [
        "from __future__ import absolute_import, print_function, unicode_literals, division\n",
        "from builtins import range, input"
      ],
      "execution_count": 0,
      "outputs": []
    },
    {
      "cell_type": "code",
      "metadata": {
        "id": "UMiRpu5IwxY2",
        "colab_type": "code",
        "colab": {
          "base_uri": "https://localhost:8080/",
          "height": 34
        },
        "outputId": "6254f501-964e-4e2f-91d4-30a4ec68f087"
      },
      "source": [
        "import os\n",
        "%tensorflow_version 2.x\n",
        "import tensorflow as tf\n",
        "from tensorflow.keras.models import Sequential, Model\n",
        "from tensorflow.keras.layers import Input, LSTM, GRU, Bidirectional, GlobalMaxPooling1D, Lambda, Concatenate, Dense\n",
        "from tensorflow.keras import backend as K\n",
        "from tensorflow.keras.datasets.mnist import load_data\n",
        "import numpy as np\n",
        "import pandas as pd\n",
        "import matplotlib.pyplot as plt\n",
        "%matplotlib inline "
      ],
      "execution_count": 11,
      "outputs": [
        {
          "output_type": "stream",
          "text": [
            "TensorFlow is already loaded. Please restart the runtime to change versions.\n"
          ],
          "name": "stdout"
        }
      ]
    },
    {
      "cell_type": "code",
      "metadata": {
        "id": "X-hzZzfdxbw6",
        "colab_type": "code",
        "colab": {
          "base_uri": "https://localhost:8080/",
          "height": 52
        },
        "outputId": "46b42fe6-60e5-42a3-89b3-ea5c71806e63"
      },
      "source": [
        "(X_train, y_train), _ = load_data()"
      ],
      "execution_count": 4,
      "outputs": [
        {
          "output_type": "stream",
          "text": [
            "Downloading data from https://storage.googleapis.com/tensorflow/tf-keras-datasets/mnist.npz\n",
            "11493376/11490434 [==============================] - 0s 0us/step\n"
          ],
          "name": "stdout"
        }
      ]
    },
    {
      "cell_type": "code",
      "metadata": {
        "id": "VQFB6DtHxk4z",
        "colab_type": "code",
        "colab": {}
      },
      "source": [
        "D = 28\n",
        "M = 15"
      ],
      "execution_count": 0,
      "outputs": []
    },
    {
      "cell_type": "code",
      "metadata": {
        "id": "F0u4sjetxoc8",
        "colab_type": "code",
        "colab": {
          "base_uri": "https://localhost:8080/",
          "height": 250
        },
        "outputId": "04461072-70ee-4d67-f4dc-b8c727b2e12f"
      },
      "source": [
        "input_ = Input(shape=(D, D))\n",
        "rnn1 = Bidirectional(LSTM(M, return_sequences=True))\n",
        "x1 = rnn1(input_)\n",
        "x1 = GlobalMaxPooling1D()(x1)\n",
        "\n",
        "rnn2 = Bidirectional(LSTM(M, return_sequences=True))\n",
        "permutor = Lambda(lambda t: K.permute_dimensions(t, pattern=(0,2,1)))\n",
        "x2 = permutor(input_)\n",
        "x2 = rnn2(x2)\n",
        "x2 = GlobalMaxPooling1D()(x2)"
      ],
      "execution_count": 8,
      "outputs": [
        {
          "output_type": "stream",
          "text": [
            "WARNING:tensorflow:From /usr/local/lib/python3.6/dist-packages/tensorflow_core/python/ops/init_ops.py:97: calling GlorotUniform.__init__ (from tensorflow.python.ops.init_ops) with dtype is deprecated and will be removed in a future version.\n",
            "Instructions for updating:\n",
            "Call initializer instance with the dtype argument instead of passing it to the constructor\n",
            "WARNING:tensorflow:From /usr/local/lib/python3.6/dist-packages/tensorflow_core/python/ops/init_ops.py:97: calling Orthogonal.__init__ (from tensorflow.python.ops.init_ops) with dtype is deprecated and will be removed in a future version.\n",
            "Instructions for updating:\n",
            "Call initializer instance with the dtype argument instead of passing it to the constructor\n",
            "WARNING:tensorflow:From /usr/local/lib/python3.6/dist-packages/tensorflow_core/python/ops/init_ops.py:97: calling Zeros.__init__ (from tensorflow.python.ops.init_ops) with dtype is deprecated and will be removed in a future version.\n",
            "Instructions for updating:\n",
            "Call initializer instance with the dtype argument instead of passing it to the constructor\n",
            "WARNING:tensorflow:From /usr/local/lib/python3.6/dist-packages/tensorflow_core/python/ops/resource_variable_ops.py:1630: calling BaseResourceVariable.__init__ (from tensorflow.python.ops.resource_variable_ops) with constraint is deprecated and will be removed in a future version.\n",
            "Instructions for updating:\n",
            "If using Keras pass *_constraint arguments to layers.\n"
          ],
          "name": "stdout"
        }
      ]
    },
    {
      "cell_type": "code",
      "metadata": {
        "id": "LGYBJbQnyQh_",
        "colab_type": "code",
        "colab": {}
      },
      "source": [
        "concatenator = Concatenate(axis=1)\n",
        "x = concatenator([x1, x2])\n",
        "output = Dense(10, activation='softmax')(x)\n",
        "model = Model(input_, output)"
      ],
      "execution_count": 0,
      "outputs": []
    },
    {
      "cell_type": "code",
      "metadata": {
        "id": "ynKnWhmgyYPi",
        "colab_type": "code",
        "colab": {}
      },
      "source": [
        "model.compile(loss='sparse_categorical_crossentropy',metrics=[\"accuracy\"], optimizer=\"adam\")"
      ],
      "execution_count": 0,
      "outputs": []
    },
    {
      "cell_type": "code",
      "metadata": {
        "id": "N8qTO1P6yyHd",
        "colab_type": "code",
        "colab": {
          "base_uri": "https://localhost:8080/",
          "height": 301
        },
        "outputId": "b8d046b1-d9d3-48ba-882b-db47fed9e84d"
      },
      "source": [
        "history = model.fit(X_train, y_train, batch_size=512, epochs=20, validation_split=0.3)"
      ],
      "execution_count": 0,
      "outputs": [
        {
          "output_type": "stream",
          "text": [
            "WARNING:tensorflow:From /usr/local/lib/python3.6/dist-packages/tensorflow_core/python/ops/math_grad.py:1424: where (from tensorflow.python.ops.array_ops) is deprecated and will be removed in a future version.\n",
            "Instructions for updating:\n",
            "Use tf.where in 2.0, which has the same broadcast rule as np.where\n",
            "Train on 42000 samples, validate on 18000 samples\n",
            "Epoch 1/20\n",
            "42000/42000 [==============================] - 18s 438us/sample - loss: 2.0282 - acc: 0.3389 - val_loss: 1.6820 - val_acc: 0.5607\n",
            "Epoch 2/20\n",
            "42000/42000 [==============================] - 16s 369us/sample - loss: 1.4425 - acc: 0.6530 - val_loss: 1.1953 - val_acc: 0.7313\n",
            "Epoch 3/20\n",
            "42000/42000 [==============================] - 15s 358us/sample - loss: 1.0370 - acc: 0.7680 - val_loss: 0.8789 - val_acc: 0.8024\n",
            "Epoch 4/20\n",
            "42000/42000 [==============================] - 15s 361us/sample - loss: 0.7897 - acc: 0.8183 - val_loss: 0.6905 - val_acc: 0.8393\n",
            "Epoch 5/20\n",
            "42000/42000 [==============================] - 15s 362us/sample - loss: 0.6329 - acc: 0.8494 - val_loss: 0.5712 - val_acc: 0.8618\n",
            "Epoch 6/20\n",
            "24064/42000 [================>.............] - ETA: 5s - loss: 0.5460 - acc: 0.8681"
          ],
          "name": "stdout"
        }
      ]
    },
    {
      "cell_type": "code",
      "metadata": {
        "id": "qFwqAVyiy77e",
        "colab_type": "code",
        "colab": {}
      },
      "source": [
        ""
      ],
      "execution_count": 0,
      "outputs": []
    }
  ]
}